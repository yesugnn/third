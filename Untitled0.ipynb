{
  "nbformat": 4,
  "nbformat_minor": 0,
  "metadata": {
    "colab": {
      "provenance": []
    },
    "kernelspec": {
      "name": "python3",
      "display_name": "Python 3"
    },
    "language_info": {
      "name": "python"
    }
  },
  "cells": [
    {
      "cell_type": "code",
      "source": [
        "n = int(input(\"please enter a number\"))\n",
        "print(n >= 100)\n"
      ],
      "metadata": {
        "colab": {
          "base_uri": "https://localhost:8080/"
        },
        "id": "KiPzgzoRbDMP",
        "outputId": "77c3aa68-7d2e-4039-d2b1-cdc9d4507a51"
      },
      "execution_count": null,
      "outputs": [
        {
          "output_type": "stream",
          "name": "stdout",
          "text": [
            "please enter a number56\n",
            "False\n"
          ]
        }
      ]
    },
    {
      "cell_type": "code",
      "source": [
        "income = float(input(\"Enter the annual income \"))\n",
        "\n",
        "if income<=85528:\n",
        "   tax=0.18*income-556.02\n",
        "else:\n",
        "   tax=14839.02+0.32*(income-85528)\n",
        "\n",
        "tax = round(tax, 0)\n",
        "print(\"The tax is:\", tax, \"thalers\")"
      ],
      "metadata": {
        "colab": {
          "base_uri": "https://localhost:8080/"
        },
        "id": "iscb3Rk0yBG3",
        "outputId": "3c588b3f-23ef-4d9d-a79f-5b4bbc64e635"
      },
      "execution_count": null,
      "outputs": [
        {
          "output_type": "stream",
          "name": "stdout",
          "text": [
            "Enter the annual income 89000\n",
            "The tax is: 15950.0 thalers\n"
          ]
        }
      ]
    },
    {
      "cell_type": "code",
      "source": [
        "plant_name = input(\"Enter a plant name: \")\n",
        "\n",
        "if plant_name == \"Spathiphyllum\":\n",
        "    print(\"Yes - Spathiphyllum is the best plant ever!\")\n",
        "elif plant_name == \"spathiphyllum\":\n",
        "    print(\"No, I want a big Spathiphyllum!\")\n",
        "else:\n",
        "    print(\"Spathiphyllum! Not\", plant_name + \"!\")\n"
      ],
      "metadata": {
        "colab": {
          "base_uri": "https://localhost:8080/"
        },
        "id": "fUeHW4vxpFEa",
        "outputId": "1e699deb-70b2-4a92-8cb6-9de9a90acf61"
      },
      "execution_count": null,
      "outputs": [
        {
          "output_type": "stream",
          "name": "stdout",
          "text": [
            "Enter a plant name: yes\n",
            "Spathiphyllum! Not yes!\n"
          ]
        }
      ]
    },
    {
      "cell_type": "code",
      "source": [
        "year = int(input(\"Enter a year: \"))\n",
        "if year>=1582:\n",
        "  if year%4!=0:\n",
        "   print (\"common year\")\n",
        "  elif year%100!=0:\n",
        "   print (\"leap year\")\n",
        "  elif year%400!=0:\n",
        "   print (\"common year\")\n",
        "  else:\n",
        "   print(\"leap year\")\n",
        "else:\n",
        "   print(\"Not within the Gregorian calendar period\")"
      ],
      "metadata": {
        "id": "QUb61kGr1a8H"
      },
      "execution_count": null,
      "outputs": []
    },
    {
      "cell_type": "code",
      "source": [
        "\n",
        "odd_numbers = 0\n",
        "even_numbers = 0\n",
        "number = int(input(\"Enter a number or type 0 to stop: \"))\n",
        "while number != 0:\n",
        "    if number % 2 == 1:\n",
        "        odd_numbers += 1\n",
        "    else:\n",
        "        even_numbers += 1\n",
        "    number = int(input(\"Enter a number or type 0 to stop: \"))\n",
        "print(\"Odd numbers count:\", odd_numbers)\n",
        "print(\"Even numbers count:\", even_numbers)\n",
        "\n"
      ],
      "metadata": {
        "colab": {
          "base_uri": "https://localhost:8080/"
        },
        "id": "xH6i2xltNwIV",
        "outputId": "8e1e6229-12fd-4c69-8035-d205bfe010f6"
      },
      "execution_count": null,
      "outputs": [
        {
          "output_type": "stream",
          "name": "stdout",
          "text": [
            "Enter a number or type 0 to stop: 26\n",
            "Enter a number or type 0 to stop: 72\n",
            "Enter a number or type 0 to stop: 98\n",
            "Enter a number or type 0 to stop: 73\n",
            "Enter a number or type 0 to stop: 782\n",
            "Enter a number or type 0 to stop: 739\n",
            "Enter a number or type 0 to stop: 0\n",
            "Odd numbers count: 2\n",
            "Even numbers count: 4\n"
          ]
        }
      ]
    },
    {
      "cell_type": "code",
      "source": [],
      "metadata": {
        "id": "-KWK2Vh7mTBV"
      },
      "execution_count": null,
      "outputs": []
    },
    {
      "cell_type": "code",
      "source": [
        "secret_number = 777\n",
        "\n",
        "while True:\n",
        "    guess = int(input(\"Guess the number: \"))\n",
        "    if guess == secret_number:\n",
        "        print(\"Well done, muggle! You are free now.\")\n",
        "        break\n",
        "    else:\n",
        "        print(\"Ha ha! You're stuck in my loop!\")\n"
      ],
      "metadata": {
        "colab": {
          "base_uri": "https://localhost:8080/"
        },
        "id": "1tthSnDXUnnw",
        "outputId": "9b4e7e6b-a9ac-4142-f9b6-683c28ac9be2"
      },
      "execution_count": null,
      "outputs": [
        {
          "output_type": "stream",
          "name": "stdout",
          "text": [
            "Guess the number: 56\n",
            "Ha ha! You're stuck in my loop!\n",
            "Guess the number: 777\n",
            "Well done, muggle! You are free now.\n"
          ]
        }
      ]
    },
    {
      "cell_type": "code",
      "source": [
        "import time\n",
        "for i in range(1, 6):\n",
        "    print(i, \"Mississippi\")\n",
        "    time.sleep(1)  # Pause for 1 second to simulate counting\n",
        "print(\"Ready or not, here I come!\")\n"
      ],
      "metadata": {
        "id": "2iXovZEOhxa1"
      },
      "execution_count": null,
      "outputs": []
    },
    {
      "cell_type": "code",
      "source": [
        "largest_number = -99999999\n",
        "counter = 0\n",
        "\n",
        "while True:\n",
        "    number = int(input(\"Enter a number or type -1 to end program: \"))\n",
        "    if number == -1:\n",
        "        break\n",
        "    counter += 1\n",
        "    if number > largest_number:\n",
        "        largest_number = number\n",
        "\n",
        "if counter != 0:\n",
        "    print(\"The largest number is\", largest_number)\n",
        "else:\n",
        "    print(\"You haven't entered any number.\")\n",
        "#break ashiglaj baihdaa numberaa while loop ehlsni dra oruulj bn"
      ],
      "metadata": {
        "id": "m1VNpDnmmVUr"
      },
      "execution_count": null,
      "outputs": []
    },
    {
      "cell_type": "code",
      "source": [
        "largest_number = -99999999\n",
        "counter = 0\n",
        "\n",
        "number = int(input(\"Enter a number or type -1 to end program: \"))\n",
        "\n",
        "while number != -1:\n",
        "    if number == -1:\n",
        "        continue\n",
        "    counter += 1\n",
        "\n",
        "    if number > largest_number:\n",
        "        largest_number = number\n",
        "    number = int(input(\"Enter a number or type -1 to end program: \"))\n",
        "\n",
        "if counter:\n",
        "    print(\"The largest number is\", largest_number)\n",
        "else:\n",
        "    print(\"You haven't entered any number.\")\n",
        "\n",
        "#continue  ashiglaj baihdaa numberee while loopin umnu avj bn"
      ],
      "metadata": {
        "id": "SgnQk4zQmeW4"
      },
      "execution_count": null,
      "outputs": []
    },
    {
      "cell_type": "code",
      "source": [
        "secret_word = \"chupacabra\"\n",
        "\n",
        "while True:\n",
        "  guess=input(\"guess the word: \")\n",
        "  if guess==secret_word:\n",
        "   print(\"You've successfully left the loop.\")\n",
        "   break\n",
        "\n",
        "#print break hoyr chn yg door dooroo\n"
      ],
      "metadata": {
        "id": "QlAUTsZOmwEN"
      },
      "execution_count": null,
      "outputs": []
    },
    {
      "cell_type": "code",
      "source": [
        "user_word=input(\"please, enter a word: \")\n",
        "user_word=user_word.upper()\n",
        "for letter in user_word:\n",
        "    if letter in ['A','E','I','O','U']:\n",
        "     continue\n",
        "    print (letter)\n",
        "#space ee haraache\n"
      ],
      "metadata": {
        "id": "Lz_-FUelsp6z"
      },
      "execution_count": null,
      "outputs": []
    },
    {
      "cell_type": "code",
      "source": [
        "user_word= input(\"please, enter a word: \")\n",
        "user_word=user_word.upper()\n",
        "word_without_vowels=\"\"\n",
        "for letter in user_word:\n",
        "    if letter in ['A','E','I','O','U']:\n",
        "       continue\n",
        "    word_without_vowels+=letter\n",
        "print(\"word without vowels:\",word_without_vowels)\n",
        "#variinha dor for bichee hu"
      ],
      "metadata": {
        "id": "ENilAmFewXsn",
        "colab": {
          "base_uri": "https://localhost:8080/"
        },
        "outputId": "aa81deca-c176-4c04-f556-1c7ba027c749"
      },
      "execution_count": null,
      "outputs": [
        {
          "output_type": "stream",
          "name": "stdout",
          "text": [
            "please, enter a word: yoy\n",
            "word without vowels: YY\n"
          ]
        }
      ]
    },
    {
      "cell_type": "code",
      "source": [
        "i = 1\n",
        "while i < 5:\n",
        "    print(i)\n",
        "    i += 1\n",
        "else:\n",
        "    print(\"else:\", i)\n",
        "#while loop else branch jishee\n"
      ],
      "metadata": {
        "id": "kfh60dDR-l1B"
      },
      "execution_count": null,
      "outputs": []
    },
    {
      "cell_type": "code",
      "source": [
        "blocks = int(input(\"Enter the number of blocks: \"))\n",
        "\n",
        "layer_blocks = 1\n",
        "height = 0\n",
        "\n",
        "while True:\n",
        "    if blocks < layer_blocks:\n",
        "        print(\"Not enough blocks to build the pyramid.\")\n",
        "        break\n",
        "    else:\n",
        "        height += 1\n",
        "        blocks -= layer_blocks\n",
        "        layer_blocks += 1\n",
        "\n",
        "print(\"The height of the pyramid is:\", height)\n"
      ],
      "metadata": {
        "colab": {
          "base_uri": "https://localhost:8080/"
        },
        "id": "49cqFIcapK16",
        "outputId": "d36c70d3-6687-45e2-aa90-8a6a9810b94d"
      },
      "execution_count": null,
      "outputs": [
        {
          "output_type": "stream",
          "name": "stdout",
          "text": [
            "Enter the number of blocks: 9\n",
            "Not enough blocks to build the pyramid.\n",
            "The height of the pyramid is: 3\n"
          ]
        }
      ]
    },
    {
      "cell_type": "code",
      "source": [
        "text = \"OpenEDG Python Institute\"\n",
        "for letter in text:\n",
        "    if letter == \"P\":\n",
        "        break\n",
        "    print(letter, end=\"\")\n",
        "#P garj irtel ajillaj bn ,garj ireel shuud ajillahaa zogsoono\n"
      ],
      "metadata": {
        "colab": {
          "base_uri": "https://localhost:8080/"
        },
        "id": "znQp1nJiqbG5",
        "outputId": "57cfbdff-9fe5-4e83-88be-de28eb8bd8f4"
      },
      "execution_count": null,
      "outputs": [
        {
          "output_type": "stream",
          "name": "stdout",
          "text": [
            "OpenEDG "
          ]
        }
      ]
    },
    {
      "cell_type": "code",
      "source": [
        "text = \"pyxpyxpyx\"\n",
        "for letter in text:\n",
        "    if letter == \"x\":\n",
        "        continue\n",
        "    print(letter, end=\"\")\n",
        "#x garj irsen ch algasaad urgeljleed ajillaj bn"
      ],
      "metadata": {
        "colab": {
          "base_uri": "https://localhost:8080/"
        },
        "id": "qB06LNe9rpfR",
        "outputId": "1322f223-942d-483f-b41e-625242a5ff66"
      },
      "execution_count": null,
      "outputs": [
        {
          "output_type": "stream",
          "name": "stdout",
          "text": [
            "pypypy"
          ]
        }
      ]
    },
    {
      "cell_type": "code",
      "source": [
        "for i in range(1,10):\n",
        "  if i%2==0:\n",
        "    continue\n",
        "  print(i)\n"
      ],
      "metadata": {
        "colab": {
          "base_uri": "https://localhost:8080/"
        },
        "id": "pFcmB9_xsOr7",
        "outputId": "b0719e44-6156-43a8-a770-deb7aa77d560"
      },
      "execution_count": null,
      "outputs": [
        {
          "output_type": "stream",
          "name": "stdout",
          "text": [
            "1\n",
            "3\n",
            "5\n",
            "7\n",
            "9\n"
          ]
        }
      ]
    },
    {
      "cell_type": "code",
      "source": [
        "x=1\n",
        "while x<11:\n",
        "  if x%2==0:\n",
        "    x+=1\n",
        "    continue\n",
        "  print(x)\n",
        "  x+=1\n",
        "  #utgaa ugchuud hilee zaaj toonnuda todorhoilno"
      ],
      "metadata": {
        "colab": {
          "base_uri": "https://localhost:8080/"
        },
        "id": "AYEzFlU9sqic",
        "outputId": "a60becf5-ef80-4471-a038-ca9435f56ef4"
      },
      "execution_count": null,
      "outputs": [
        {
          "output_type": "stream",
          "name": "stdout",
          "text": [
            "1\n",
            "3\n",
            "5\n",
            "7\n",
            "9\n"
          ]
        }
      ]
    },
    {
      "cell_type": "code",
      "source": [
        "heregtei=\"\"\n",
        "for ch in \"john.smith@pythoninstitute.org\":\n",
        "    if ch == \"@\":\n",
        "      break\n",
        "    else:\n",
        "      heregtei+=ch\n",
        "print(heregtei)"
      ],
      "metadata": {
        "colab": {
          "base_uri": "https://localhost:8080/"
        },
        "id": "4fpH9V88tjEm",
        "outputId": "88822f00-1cbd-4bf9-f6cd-ca206e1a8c24"
      },
      "execution_count": null,
      "outputs": [
        {
          "output_type": "stream",
          "name": "stdout",
          "text": [
            "john.smith\n"
          ]
        }
      ]
    },
    {
      "cell_type": "code",
      "source": [
        "original_string=\"0165031806510\"\n",
        "modified_string = \"\"\n",
        "for digit in \"0165031806510\":\n",
        "    if digit == \"0\":\n",
        "      modified_string+=\"x\"\n",
        "      continue\n",
        "    modified_string+=digit\n",
        "print(modified_string)\n",
        "#\"x\" ingej x ee oruulna"
      ],
      "metadata": {
        "colab": {
          "base_uri": "https://localhost:8080/"
        },
        "id": "rXfUkD-KrAkJ",
        "outputId": "52ee48b0-be08-4f2d-bab2-3169f530b2e0"
      },
      "execution_count": null,
      "outputs": [
        {
          "output_type": "stream",
          "name": "stdout",
          "text": [
            "x165x318x651x\n"
          ]
        }
      ]
    },
    {
      "cell_type": "code",
      "source": [
        "x = 4\n",
        "y = 1\n",
        "\n",
        "a = x & y\n",
        "b = x | y\n",
        "c = ~x  # !difícil!\n",
        "d = x ^ 5\n",
        "e = x >> 2\n",
        "f = x << 2\n",
        "\n",
        "print(a, b, c, d, e, f)\n",
        "#binary bolgojigooool bod"
      ],
      "metadata": {
        "colab": {
          "base_uri": "https://localhost:8080/"
        },
        "id": "d-FIStCvsZ58",
        "outputId": "d6a33741-a5de-4e7f-be4d-2070ce8c48e9"
      },
      "execution_count": null,
      "outputs": [
        {
          "output_type": "stream",
          "name": "stdout",
          "text": [
            "0 5 -5 1 1 16\n"
          ]
        }
      ]
    },
    {
      "cell_type": "code",
      "source": [],
      "metadata": {
        "id": "c9JmLu7A4ikv"
      },
      "execution_count": null,
      "outputs": []
    }
  ]
}